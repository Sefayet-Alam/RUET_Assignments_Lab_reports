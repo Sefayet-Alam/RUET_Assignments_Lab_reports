{
  "nbformat": 4,
  "nbformat_minor": 0,
  "metadata": {
    "colab": {
      "provenance": []
    },
    "kernelspec": {
      "name": "python3",
      "display_name": "Python 3"
    },
    "language_info": {
      "name": "python"
    }
  },
  "cells": [
    {
      "cell_type": "code",
      "execution_count": 10,
      "metadata": {
        "colab": {
          "base_uri": "https://localhost:8080/"
        },
        "id": "nHmF-UtIfM9J",
        "outputId": "464213c6-538d-45d1-fc07-40ee95272f5e"
      },
      "outputs": [
        {
          "output_type": "stream",
          "name": "stdout",
          "text": [
            "Root found at x=  2.0945520401000977  after  19  iterations\n"
          ]
        }
      ],
      "source": [
        "def bisection_method(func,a,b,tol=1e-6,max_iter=100):\n",
        "    if (func(a)*func(b)>=0):\n",
        "      raise ValueError(\"Function has the same sign at both endpoints.Bisection method cannot find any root in this condition\")\n",
        "\n",
        "    iter_count=0\n",
        "    while((b-a)/2.0>tol and iter_count<max_iter):\n",
        "      c=(a+b)/2.0\n",
        "      if (func(c)==0.0):\n",
        "        return c,iter_count\n",
        "      elif func(c)*func(a)<0:\n",
        "        b=c\n",
        "      else :\n",
        "        a=c\n",
        "      iter_count+=1\n",
        "\n",
        "    #return the midpoint of the final interval as the approximation of the root\n",
        "    root=(a+b)/2.0\n",
        "    return root,iter_count\n",
        "\n",
        "\n",
        "def quadric_function(x):\n",
        "  return x**3-2*x-5\n",
        "\n",
        "initial_interval=(2,3)\n",
        "root,iterations=bisection_method(quadric_function,*initial_interval)\n",
        "\n",
        "if root is not None:\n",
        "  print('Root found at x= ',root,' after ',iterations,' iterations')\n",
        "\n",
        "else :\n",
        "  print(\"Bisection method did not converge within the specified tolerance\")"
      ]
    },
    {
      "cell_type": "code",
      "source": [
        "def newton_raphson(func,func_derivative,x0,tol=1e-20,max_iter=500):\n",
        "  x=x0\n",
        "  iter_count=0\n",
        "\n",
        "  while iter_count < max_iter :\n",
        "    f_x=func(x)\n",
        "    f_prime_x= func_derivative(x)\n",
        "\n",
        "    if abs(f_x) < tol :\n",
        "      return x,iter_count\n",
        "\n",
        "    if f_prime_x == 0 :\n",
        "      return None, iter_count\n",
        "\n",
        "    x=x-f_x/f_prime_x\n",
        "    iter_count+=1\n",
        "\n",
        "\n",
        "  return None,iter_count\n",
        "\n",
        "def cubic_function(x) :\n",
        "  return x**3-4*x**2-x+4\n",
        "\n",
        "def cubic_function_derivative(x) :\n",
        "  return 3*x**2 - 8*x -1\n",
        "\n",
        "initial_guess=3.0\n",
        "\n",
        "root, iterations = newton_raphson(cubic_function,cubic_function_derivative,initial_guess)\n",
        "if root is not None:\n",
        "  print(\"Root found at x= \",root,\" after \", iterations, \" iterations.\")\n",
        "\n",
        "else :\n",
        "  print(\"Newton-Raphson method did not converge within the specified tolerance.\")\n"
      ],
      "metadata": {
        "colab": {
          "base_uri": "https://localhost:8080/"
        },
        "id": "O5AF1nAQmqhN",
        "outputId": "c44d8563-6f24-4d99-db83-cd8cb3755410"
      },
      "execution_count": 17,
      "outputs": [
        {
          "output_type": "stream",
          "name": "stdout",
          "text": [
            "Root found at x=  4.0  after  8  iterations.\n"
          ]
        }
      ]
    }
  ]
}