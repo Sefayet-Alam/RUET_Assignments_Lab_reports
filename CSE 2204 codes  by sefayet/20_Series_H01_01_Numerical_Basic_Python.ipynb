{
  "nbformat": 4,
  "nbformat_minor": 0,
  "metadata": {
    "colab": {
      "provenance": []
    },
    "kernelspec": {
      "name": "python3",
      "display_name": "Python 3"
    },
    "language_info": {
      "name": "python"
    }
  },
  "cells": [
    {
      "cell_type": "markdown",
      "source": [
        "Basic Input/Output/Others."
      ],
      "metadata": {
        "id": "9NyH6CRCsOiL"
      }
    },
    {
      "cell_type": "code",
      "execution_count": null,
      "metadata": {
        "colab": {
          "base_uri": "https://localhost:8080/"
        },
        "id": "SDDlzLrrsA3l",
        "outputId": "91d07b05-f725-4a82-b4b5-2f57def00f45"
      },
      "outputs": [
        {
          "output_type": "stream",
          "name": "stdout",
          "text": [
            "Welcome all to Finite automata py lab.\n",
            "\n",
            "<class 'int'> <class 'float'> <class 'str'>\n"
          ]
        }
      ],
      "source": [
        "print('Welcome all to Finite automata py lab.\\n')\n",
        "\n",
        "age = 23   # Number dataType: int\n",
        "salary = 35000.36 # Number dataType: float\n",
        "name = 'khan' # string\n",
        "\n",
        "print(type(age), type(salary), type(name))"
      ]
    },
    {
      "cell_type": "code",
      "source": [
        "# get input in python...\n",
        "\n",
        "name  = input('Enter your full name:')\n",
        "print('You are Mr. ',name)\n",
        "print(type(name))\n",
        "\n",
        "var = input('Get a number:')\n",
        "print(type(var))\n",
        "\n",
        "var = int(var)\n",
        "print(var)\n",
        "print(type(var))\n",
        "\n",
        "firstName = 'Salman'\n",
        "secondName = 'Khan'\n",
        "fullName = firstName + secondName # Concatenation(+)\n",
        "print('Full name:', fullName)\n",
        "\n",
        "a,b,c = 140, 156.36, 'Hasan'\n",
        "print(type(a), type(c))\n"
      ],
      "metadata": {
        "colab": {
          "base_uri": "https://localhost:8080/"
        },
        "id": "CLCbDVR9tNYh",
        "outputId": "0b877e59-8136-4d01-91d7-2999eddc809a"
      },
      "execution_count": null,
      "outputs": [
        {
          "output_type": "stream",
          "name": "stdout",
          "text": [
            "Enter your full name:Faruk Khan\n",
            "You are Mr.  Faruk Khan\n",
            "<class 'str'>\n",
            "Get a number:28\n",
            "<class 'str'>\n",
            "28\n",
            "<class 'int'>\n",
            "Full name: SalmanKhan\n",
            "<class 'int'> <class 'str'>\n"
          ]
        }
      ]
    },
    {
      "cell_type": "code",
      "source": [
        "# Basic data Types\n",
        "'''\n",
        "Number: int, float, complex\n",
        "string\n",
        "list\n",
        "\n",
        "'''\n",
        "\n",
        "a = 14\n",
        "b = 14.25\n",
        "c = 14j\n",
        "d = 'Hello'\n",
        "\n",
        "list1 = [1,3,5,7, 'Odd', 14j]\n",
        "print(list1)\n",
        "\n",
        "print(type(a),type(b),type(c),type(list1))\n"
      ],
      "metadata": {
        "colab": {
          "base_uri": "https://localhost:8080/"
        },
        "id": "_3dn3sOLtNbL",
        "outputId": "797d4744-6eed-4e70-d38a-79d1b9ab234a"
      },
      "execution_count": null,
      "outputs": [
        {
          "output_type": "stream",
          "name": "stdout",
          "text": [
            "[1, 3, 5, 7, 'Odd', 14j]\n",
            "<class 'int'> <class 'float'> <class 'complex'> <class 'list'>\n"
          ]
        }
      ]
    },
    {
      "cell_type": "code",
      "source": [
        "# Nested if else:\n",
        "foodItem = input('Enter your item:')\n",
        "\n",
        "foodItem = int(foodItem)\n",
        "\n",
        "if foodItem == 101:\n",
        "  print('Your order is pizza.')\n",
        "elif foodItem == 102:\n",
        "  print('Your order is sandwich.')\n",
        "elif foodItem == 103:\n",
        "  print('Your order is burger.')\n",
        "\n",
        "else:\n",
        "  print('Your order is invalid !')\n"
      ],
      "metadata": {
        "colab": {
          "base_uri": "https://localhost:8080/"
        },
        "id": "sRsJlB_VtNd3",
        "outputId": "cfc4b4c3-2265-46a0-e21b-4814257601fe"
      },
      "execution_count": null,
      "outputs": [
        {
          "output_type": "stream",
          "name": "stdout",
          "text": [
            "Enter your item:102\n",
            "Your order is sandwich.\n"
          ]
        }
      ]
    },
    {
      "cell_type": "code",
      "source": [
        "# Loop in python\n",
        "\n",
        "# while loop\n",
        "i=0\n",
        "while i<10:\n",
        "\n",
        "  if i==5:\n",
        "    break\n",
        "  print(i,end = ' ')\n",
        "  i+=1"
      ],
      "metadata": {
        "colab": {
          "base_uri": "https://localhost:8080/"
        },
        "id": "bBn04mHetNgT",
        "outputId": "34aa17c9-571c-4e2f-e6bf-ab305fff23c9"
      },
      "execution_count": null,
      "outputs": [
        {
          "output_type": "stream",
          "name": "stdout",
          "text": [
            "0 1 2 3 4 "
          ]
        }
      ]
    },
    {
      "cell_type": "code",
      "source": [
        "# for loop\n",
        "\n",
        "for i in range(0,10,2):\n",
        "  print(i)\n",
        "\n",
        "print('\\n\\n')\n",
        "\n",
        "for i in range(10,0,-1):\n",
        "  print(i)"
      ],
      "metadata": {
        "colab": {
          "base_uri": "https://localhost:8080/"
        },
        "id": "Xx8Jd9QhtNlM",
        "outputId": "e852d3d6-6e53-4064-b65c-ab5dbd626a6b"
      },
      "execution_count": null,
      "outputs": [
        {
          "output_type": "stream",
          "name": "stdout",
          "text": [
            "0\n",
            "2\n",
            "4\n",
            "6\n",
            "8\n",
            "\n",
            "\n",
            "\n",
            "10\n",
            "9\n",
            "8\n",
            "7\n",
            "6\n",
            "5\n",
            "4\n",
            "3\n",
            "2\n",
            "1\n"
          ]
        }
      ]
    },
    {
      "cell_type": "code",
      "source": [
        "for i in range(1,10):\n",
        "  print(i)\n",
        "\n",
        "for i in range(10):\n",
        "  print(i)\n"
      ],
      "metadata": {
        "colab": {
          "base_uri": "https://localhost:8080/"
        },
        "id": "6xO6_YlHtWeB",
        "outputId": "9de35adb-e9e5-4ffa-f1fc-91d0e41d7502"
      },
      "execution_count": null,
      "outputs": [
        {
          "output_type": "stream",
          "name": "stdout",
          "text": [
            "1\n",
            "2\n",
            "3\n",
            "4\n",
            "5\n",
            "6\n",
            "7\n",
            "8\n",
            "9\n",
            "0\n",
            "1\n",
            "2\n",
            "3\n",
            "4\n",
            "5\n",
            "6\n",
            "7\n",
            "8\n",
            "9\n"
          ]
        }
      ]
    },
    {
      "cell_type": "code",
      "source": [
        "import math\n",
        "\n",
        "for i in range(2,101):\n",
        "    for j in range(2, int(math.sqrt(i))+1 ):\n",
        "        if(i % j==0):\n",
        "            break\n",
        "    else:\n",
        "        print(i, end=' ')\n",
        "\n",
        "\n",
        "name = 'khan'\n",
        "print(len(name))"
      ],
      "metadata": {
        "colab": {
          "base_uri": "https://localhost:8080/"
        },
        "id": "UJ-60_KntWgx",
        "outputId": "1c6bdf45-9e29-4115-b80e-8982d8a32a4b"
      },
      "execution_count": null,
      "outputs": [
        {
          "output_type": "stream",
          "name": "stdout",
          "text": [
            "2 3 5 7 11 13 17 19 23 29 31 37 41 43 47 53 59 61 67 71 73 79 83 89 97 4\n"
          ]
        }
      ]
    },
    {
      "cell_type": "code",
      "source": [
        "# List: is like array\n",
        "\n",
        "batsman = ['Sakib','Tamim','Mushfiq']\n",
        "average = [35.0,36,33.30]\n",
        "\n",
        "print(batsman)\n",
        "print(average)\n",
        "\n",
        "\n",
        "for i in batsman:\n",
        "  print(i)\n",
        "\n",
        "for i in range(len(batsman)):\n",
        "  print(batsman[i])\n",
        "\n"
      ],
      "metadata": {
        "colab": {
          "base_uri": "https://localhost:8080/"
        },
        "id": "FGf0CCzjtWjd",
        "outputId": "06a530d9-47c4-4810-9399-16e54970c09a"
      },
      "execution_count": null,
      "outputs": [
        {
          "output_type": "stream",
          "name": "stdout",
          "text": [
            "['Sakib', 'Tamim', 'Mushfiq']\n",
            "[35.0, 36, 33.3]\n",
            "Sakib\n",
            "Tamim\n",
            "Mushfiq\n",
            "Sakib\n",
            "Tamim\n",
            "Mushfiq\n"
          ]
        }
      ]
    },
    {
      "cell_type": "code",
      "source": [
        "# List: is like array\n",
        "\n",
        "batsman = ['Sakib','Tamim','Mushfiq']\n",
        "average = [35.0,36,33.30]\n",
        "\n",
        "print(batsman)\n",
        "print(average)\n",
        "\n",
        "\n",
        "for i in batsman:\n",
        "  print(i)\n",
        "\n",
        "for i in range(len(batsman)):\n",
        "  print(batsman[i])\n",
        "\n"
      ],
      "metadata": {
        "colab": {
          "base_uri": "https://localhost:8080/"
        },
        "id": "WSjqmOEdtb8Z",
        "outputId": "e9a12af8-9139-4633-b7f5-748299bcdc92"
      },
      "execution_count": null,
      "outputs": [
        {
          "output_type": "stream",
          "name": "stdout",
          "text": [
            "['Sakib', 'Tamim', 'Mushfiq']\n",
            "[35.0, 36, 33.3]\n",
            "Sakib\n",
            "Tamim\n",
            "Mushfiq\n",
            "Sakib\n",
            "Tamim\n",
            "Mushfiq\n"
          ]
        }
      ]
    },
    {
      "cell_type": "code",
      "source": [
        "# Dictionary...\n",
        "AllRounder = {\n",
        "    'name' : 'Sakib',\n",
        "    'batsAverage' : 35.0,\n",
        "    'bowlingAverage' : 20.3,\n",
        "    'highRuns' : 200,\n",
        "    'totalRuns' : 7000,\n",
        "    'totalWickets' : 350\n",
        "}\n",
        "\n",
        "print(AllRounder)\n",
        "print(AllRounder['name'], 'has a total of ', AllRounder['totalRuns'], 'runs.')"
      ],
      "metadata": {
        "colab": {
          "base_uri": "https://localhost:8080/"
        },
        "id": "1kNSP3UVtb_P",
        "outputId": "81a9b347-a074-463d-df7a-7d06b0bea297"
      },
      "execution_count": null,
      "outputs": [
        {
          "output_type": "stream",
          "name": "stdout",
          "text": [
            "{'name': 'Sakib', 'batsAverage': 35.0, 'bowlingAverage': 20.3, 'highRuns': 200, 'totalRuns': 7000, 'totalWickets': 350}\n",
            "Sakib has a total of  7000 runs.\n"
          ]
        }
      ]
    },
    {
      "cell_type": "code",
      "source": [
        "# Function\n",
        "\n",
        "def Create_fullName(fname, lname):\n",
        "  fullName = fname + ' ' + lname\n",
        "\n",
        "  return fullName\n",
        "\n",
        "\n",
        "fname = 'Salman'\n",
        "lname = 'Khan'\n",
        "\n",
        "fullName =  Create_fullName(fname,lname)\n",
        "print('Full Name:', fullName)\n"
      ],
      "metadata": {
        "colab": {
          "base_uri": "https://localhost:8080/"
        },
        "id": "mDQy5mw9teEJ",
        "outputId": "4cabafa8-54e1-4fa7-d498-3e50d869a84c"
      },
      "execution_count": null,
      "outputs": [
        {
          "output_type": "stream",
          "name": "stdout",
          "text": [
            "Full Name: Salman Khan\n"
          ]
        }
      ]
    },
    {
      "cell_type": "code",
      "source": [
        "#Recursive....\n",
        "\n",
        "def factorial(n):\n",
        "  if n==1:\n",
        "    return 1\n",
        "  else:\n",
        "    return n*factorial(n-1)\n",
        "\n",
        "\n",
        "while(True):   # Infinite loop\n",
        "  n = int (input('Enter a number:') )\n",
        "  if n==0:\n",
        "    break\n",
        "\n",
        "  fact = factorial(n)\n",
        "  print('Factorial of ', n, ' is:', fact)"
      ],
      "metadata": {
        "colab": {
          "base_uri": "https://localhost:8080/"
        },
        "id": "1TI2cDVzteL1",
        "outputId": "6c056a0b-a8f2-497f-d96b-30642ea1dca0"
      },
      "execution_count": null,
      "outputs": [
        {
          "name": "stdout",
          "output_type": "stream",
          "text": [
            "Enter a number:45\n",
            "Factorial of  45  is: 119622220865480194561963161495657715064383733760000000000\n",
            "Enter a number:23\n",
            "Factorial of  23  is: 25852016738884976640000\n",
            "Enter a number:0\n"
          ]
        }
      ]
    },
    {
      "cell_type": "code",
      "source": [
        "#Pandas (Series Object and Dataframe)\n",
        "\n",
        "import pandas as pd\n",
        "\n",
        "s1 = pd.Series([10, 20, 30, 40], index=['a', 'b', 'c', 'd'])\n",
        "\n",
        "d = {'k' : 10, 'l': 80, 'm': 30}\n",
        "\n",
        "s1 = pd.Series(d)\n",
        "s1\n",
        "\n",
        "table = {\"Names\":['Don', 'Ron', 'John'], 'Marks': [10, 20, 30]}\n",
        "pd.DataFrame(table)\n"
      ],
      "metadata": {
        "colab": {
          "base_uri": "https://localhost:8080/",
          "height": 143
        },
        "id": "bjvsPz90teO8",
        "outputId": "2ee004e0-9ee7-4076-b534-c02fe5d7d0cc"
      },
      "execution_count": null,
      "outputs": [
        {
          "output_type": "execute_result",
          "data": {
            "text/plain": [
              "  Names  Marks\n",
              "0   Don     10\n",
              "1   Ron     20\n",
              "2  John     30"
            ],
            "text/html": [
              "\n",
              "  <div id=\"df-a26ddffa-4c46-449b-b58d-852268c319e2\" class=\"colab-df-container\">\n",
              "    <div>\n",
              "<style scoped>\n",
              "    .dataframe tbody tr th:only-of-type {\n",
              "        vertical-align: middle;\n",
              "    }\n",
              "\n",
              "    .dataframe tbody tr th {\n",
              "        vertical-align: top;\n",
              "    }\n",
              "\n",
              "    .dataframe thead th {\n",
              "        text-align: right;\n",
              "    }\n",
              "</style>\n",
              "<table border=\"1\" class=\"dataframe\">\n",
              "  <thead>\n",
              "    <tr style=\"text-align: right;\">\n",
              "      <th></th>\n",
              "      <th>Names</th>\n",
              "      <th>Marks</th>\n",
              "    </tr>\n",
              "  </thead>\n",
              "  <tbody>\n",
              "    <tr>\n",
              "      <th>0</th>\n",
              "      <td>Don</td>\n",
              "      <td>10</td>\n",
              "    </tr>\n",
              "    <tr>\n",
              "      <th>1</th>\n",
              "      <td>Ron</td>\n",
              "      <td>20</td>\n",
              "    </tr>\n",
              "    <tr>\n",
              "      <th>2</th>\n",
              "      <td>John</td>\n",
              "      <td>30</td>\n",
              "    </tr>\n",
              "  </tbody>\n",
              "</table>\n",
              "</div>\n",
              "    <div class=\"colab-df-buttons\">\n",
              "\n",
              "  <div class=\"colab-df-container\">\n",
              "    <button class=\"colab-df-convert\" onclick=\"convertToInteractive('df-a26ddffa-4c46-449b-b58d-852268c319e2')\"\n",
              "            title=\"Convert this dataframe to an interactive table.\"\n",
              "            style=\"display:none;\">\n",
              "\n",
              "  <svg xmlns=\"http://www.w3.org/2000/svg\" height=\"24px\" viewBox=\"0 -960 960 960\">\n",
              "    <path d=\"M120-120v-720h720v720H120Zm60-500h600v-160H180v160Zm220 220h160v-160H400v160Zm0 220h160v-160H400v160ZM180-400h160v-160H180v160Zm440 0h160v-160H620v160ZM180-180h160v-160H180v160Zm440 0h160v-160H620v160Z\"/>\n",
              "  </svg>\n",
              "    </button>\n",
              "\n",
              "  <style>\n",
              "    .colab-df-container {\n",
              "      display:flex;\n",
              "      gap: 12px;\n",
              "    }\n",
              "\n",
              "    .colab-df-convert {\n",
              "      background-color: #E8F0FE;\n",
              "      border: none;\n",
              "      border-radius: 50%;\n",
              "      cursor: pointer;\n",
              "      display: none;\n",
              "      fill: #1967D2;\n",
              "      height: 32px;\n",
              "      padding: 0 0 0 0;\n",
              "      width: 32px;\n",
              "    }\n",
              "\n",
              "    .colab-df-convert:hover {\n",
              "      background-color: #E2EBFA;\n",
              "      box-shadow: 0px 1px 2px rgba(60, 64, 67, 0.3), 0px 1px 3px 1px rgba(60, 64, 67, 0.15);\n",
              "      fill: #174EA6;\n",
              "    }\n",
              "\n",
              "    .colab-df-buttons div {\n",
              "      margin-bottom: 4px;\n",
              "    }\n",
              "\n",
              "    [theme=dark] .colab-df-convert {\n",
              "      background-color: #3B4455;\n",
              "      fill: #D2E3FC;\n",
              "    }\n",
              "\n",
              "    [theme=dark] .colab-df-convert:hover {\n",
              "      background-color: #434B5C;\n",
              "      box-shadow: 0px 1px 3px 1px rgba(0, 0, 0, 0.15);\n",
              "      filter: drop-shadow(0px 1px 2px rgba(0, 0, 0, 0.3));\n",
              "      fill: #FFFFFF;\n",
              "    }\n",
              "  </style>\n",
              "\n",
              "    <script>\n",
              "      const buttonEl =\n",
              "        document.querySelector('#df-a26ddffa-4c46-449b-b58d-852268c319e2 button.colab-df-convert');\n",
              "      buttonEl.style.display =\n",
              "        google.colab.kernel.accessAllowed ? 'block' : 'none';\n",
              "\n",
              "      async function convertToInteractive(key) {\n",
              "        const element = document.querySelector('#df-a26ddffa-4c46-449b-b58d-852268c319e2');\n",
              "        const dataTable =\n",
              "          await google.colab.kernel.invokeFunction('convertToInteractive',\n",
              "                                                    [key], {});\n",
              "        if (!dataTable) return;\n",
              "\n",
              "        const docLinkHtml = 'Like what you see? Visit the ' +\n",
              "          '<a target=\"_blank\" href=https://colab.research.google.com/notebooks/data_table.ipynb>data table notebook</a>'\n",
              "          + ' to learn more about interactive tables.';\n",
              "        element.innerHTML = '';\n",
              "        dataTable['output_type'] = 'display_data';\n",
              "        await google.colab.output.renderOutput(dataTable, element);\n",
              "        const docLink = document.createElement('div');\n",
              "        docLink.innerHTML = docLinkHtml;\n",
              "        element.appendChild(docLink);\n",
              "      }\n",
              "    </script>\n",
              "  </div>\n",
              "\n",
              "\n",
              "<div id=\"df-ac63175a-5fb5-44bf-9b53-02eb04411c05\">\n",
              "  <button class=\"colab-df-quickchart\" onclick=\"quickchart('df-ac63175a-5fb5-44bf-9b53-02eb04411c05')\"\n",
              "            title=\"Suggest charts.\"\n",
              "            style=\"display:none;\">\n",
              "\n",
              "<svg xmlns=\"http://www.w3.org/2000/svg\" height=\"24px\"viewBox=\"0 0 24 24\"\n",
              "     width=\"24px\">\n",
              "    <g>\n",
              "        <path d=\"M19 3H5c-1.1 0-2 .9-2 2v14c0 1.1.9 2 2 2h14c1.1 0 2-.9 2-2V5c0-1.1-.9-2-2-2zM9 17H7v-7h2v7zm4 0h-2V7h2v10zm4 0h-2v-4h2v4z\"/>\n",
              "    </g>\n",
              "</svg>\n",
              "  </button>\n",
              "\n",
              "<style>\n",
              "  .colab-df-quickchart {\n",
              "      --bg-color: #E8F0FE;\n",
              "      --fill-color: #1967D2;\n",
              "      --hover-bg-color: #E2EBFA;\n",
              "      --hover-fill-color: #174EA6;\n",
              "      --disabled-fill-color: #AAA;\n",
              "      --disabled-bg-color: #DDD;\n",
              "  }\n",
              "\n",
              "  [theme=dark] .colab-df-quickchart {\n",
              "      --bg-color: #3B4455;\n",
              "      --fill-color: #D2E3FC;\n",
              "      --hover-bg-color: #434B5C;\n",
              "      --hover-fill-color: #FFFFFF;\n",
              "      --disabled-bg-color: #3B4455;\n",
              "      --disabled-fill-color: #666;\n",
              "  }\n",
              "\n",
              "  .colab-df-quickchart {\n",
              "    background-color: var(--bg-color);\n",
              "    border: none;\n",
              "    border-radius: 50%;\n",
              "    cursor: pointer;\n",
              "    display: none;\n",
              "    fill: var(--fill-color);\n",
              "    height: 32px;\n",
              "    padding: 0;\n",
              "    width: 32px;\n",
              "  }\n",
              "\n",
              "  .colab-df-quickchart:hover {\n",
              "    background-color: var(--hover-bg-color);\n",
              "    box-shadow: 0 1px 2px rgba(60, 64, 67, 0.3), 0 1px 3px 1px rgba(60, 64, 67, 0.15);\n",
              "    fill: var(--button-hover-fill-color);\n",
              "  }\n",
              "\n",
              "  .colab-df-quickchart-complete:disabled,\n",
              "  .colab-df-quickchart-complete:disabled:hover {\n",
              "    background-color: var(--disabled-bg-color);\n",
              "    fill: var(--disabled-fill-color);\n",
              "    box-shadow: none;\n",
              "  }\n",
              "\n",
              "  .colab-df-spinner {\n",
              "    border: 2px solid var(--fill-color);\n",
              "    border-color: transparent;\n",
              "    border-bottom-color: var(--fill-color);\n",
              "    animation:\n",
              "      spin 1s steps(1) infinite;\n",
              "  }\n",
              "\n",
              "  @keyframes spin {\n",
              "    0% {\n",
              "      border-color: transparent;\n",
              "      border-bottom-color: var(--fill-color);\n",
              "      border-left-color: var(--fill-color);\n",
              "    }\n",
              "    20% {\n",
              "      border-color: transparent;\n",
              "      border-left-color: var(--fill-color);\n",
              "      border-top-color: var(--fill-color);\n",
              "    }\n",
              "    30% {\n",
              "      border-color: transparent;\n",
              "      border-left-color: var(--fill-color);\n",
              "      border-top-color: var(--fill-color);\n",
              "      border-right-color: var(--fill-color);\n",
              "    }\n",
              "    40% {\n",
              "      border-color: transparent;\n",
              "      border-right-color: var(--fill-color);\n",
              "      border-top-color: var(--fill-color);\n",
              "    }\n",
              "    60% {\n",
              "      border-color: transparent;\n",
              "      border-right-color: var(--fill-color);\n",
              "    }\n",
              "    80% {\n",
              "      border-color: transparent;\n",
              "      border-right-color: var(--fill-color);\n",
              "      border-bottom-color: var(--fill-color);\n",
              "    }\n",
              "    90% {\n",
              "      border-color: transparent;\n",
              "      border-bottom-color: var(--fill-color);\n",
              "    }\n",
              "  }\n",
              "</style>\n",
              "\n",
              "  <script>\n",
              "    async function quickchart(key) {\n",
              "      const quickchartButtonEl =\n",
              "        document.querySelector('#' + key + ' button');\n",
              "      quickchartButtonEl.disabled = true;  // To prevent multiple clicks.\n",
              "      quickchartButtonEl.classList.add('colab-df-spinner');\n",
              "      try {\n",
              "        const charts = await google.colab.kernel.invokeFunction(\n",
              "            'suggestCharts', [key], {});\n",
              "      } catch (error) {\n",
              "        console.error('Error during call to suggestCharts:', error);\n",
              "      }\n",
              "      quickchartButtonEl.classList.remove('colab-df-spinner');\n",
              "      quickchartButtonEl.classList.add('colab-df-quickchart-complete');\n",
              "    }\n",
              "    (() => {\n",
              "      let quickchartButtonEl =\n",
              "        document.querySelector('#df-ac63175a-5fb5-44bf-9b53-02eb04411c05 button');\n",
              "      quickchartButtonEl.style.display =\n",
              "        google.colab.kernel.accessAllowed ? 'block' : 'none';\n",
              "    })();\n",
              "  </script>\n",
              "</div>\n",
              "    </div>\n",
              "  </div>\n"
            ]
          },
          "metadata": {},
          "execution_count": 14
        }
      ]
    },
    {
      "cell_type": "code",
      "source": [
        "import numpy as np\n",
        "\n",
        "arr1 = np.array( [\n",
        "                 [1,2,3],\n",
        "                 [4,5,6],\n",
        "                 [18,19,61]\n",
        "                 ]   )\n",
        "print(arr1)\n",
        "\n",
        "print(arr1.shape)\n",
        "print(arr1.size)\n",
        "print(arr1.ndim)\n",
        "\n",
        "print('Value at (2,2): ',arr1[2,2])"
      ],
      "metadata": {
        "colab": {
          "base_uri": "https://localhost:8080/"
        },
        "id": "qUBMNAk4teRp",
        "outputId": "f2ca8c8a-3ef2-475c-a7b7-d234afa9f6b7"
      },
      "execution_count": null,
      "outputs": [
        {
          "output_type": "stream",
          "name": "stdout",
          "text": [
            "[[ 1  2  3]\n",
            " [ 4  5  6]\n",
            " [18 19 61]]\n",
            "(3, 3)\n",
            "9\n",
            "2\n",
            "Value at (2,2):  61\n"
          ]
        }
      ]
    },
    {
      "cell_type": "code",
      "source": [
        "Z  = np.zeros((3,5))\n",
        "print(Z)\n",
        "\n",
        "print('\\n\\n')\n",
        "O  = np.ones((2,3))\n",
        "print(Z)"
      ],
      "metadata": {
        "colab": {
          "base_uri": "https://localhost:8080/"
        },
        "id": "hT7lLQSstokR",
        "outputId": "b4d78578-00ea-4640-b138-447cb6a491f4"
      },
      "execution_count": null,
      "outputs": [
        {
          "output_type": "stream",
          "name": "stdout",
          "text": [
            "[[0. 0. 0. 0. 0.]\n",
            " [0. 0. 0. 0. 0.]\n",
            " [0. 0. 0. 0. 0.]]\n",
            "\n",
            "\n",
            "\n",
            "[[0. 0. 0. 0. 0.]\n",
            " [0. 0. 0. 0. 0.]\n",
            " [0. 0. 0. 0. 0.]]\n"
          ]
        }
      ]
    },
    {
      "cell_type": "code",
      "source": [
        "#Matplotlib\n",
        "import numpy as np\n",
        "import matplotlib.pyplot as plt\n",
        "\n",
        "x = np.arange(1,11)\n",
        "y1 = 2*x\n",
        "y2 = 3*x\n",
        "\n",
        "plt.plot(x,y1)\n",
        "plt.show()"
      ],
      "metadata": {
        "colab": {
          "base_uri": "https://localhost:8080/",
          "height": 430
        },
        "id": "aRqlxaCotonb",
        "outputId": "b1bc5254-cffd-4d2e-fa85-83613a6dff75"
      },
      "execution_count": null,
      "outputs": [
        {
          "output_type": "display_data",
          "data": {
            "text/plain": [
              "<Figure size 640x480 with 1 Axes>"
            ],
            "image/png": "[encoded data removed]"
          },
          "metadata": {}
        }
      ]
    },
    {
      "cell_type": "code",
      "source": [
        "#Line Plot\n",
        "\n",
        "plt.plot(x, y1, color='orange', linewidth=3, linestyle=\":\")\n",
        "plt.plot(x, y2, color='red', linewidth=2, linestyle='--')\n",
        "plt.title(\"Line Plot\")\n",
        "plt.xlabel(\"X-axis\")\n",
        "plt.ylabel(\"Y-axis\")\n",
        "plt.grid(True)\n",
        "plt.show()"
      ],
      "metadata": {
        "colab": {
          "base_uri": "https://localhost:8080/",
          "height": 472
        },
        "id": "yMtK9I3Ytov4",
        "outputId": "dac2ab0e-f033-486c-a0df-0f91dfaf5621"
      },
      "execution_count": null,
      "outputs": [
        {
          "output_type": "display_data",
          "data": {
            "text/plain": [
              "<Figure size 640x480 with 1 Axes>"
            ],
            "image/png": "[encoded data removed]"
          },
          "metadata": {}
        }
      ]
    },
    {
      "cell_type": "code",
      "source": [
        "#Bar Plot\n",
        "student = {'Sam': 50, 'Ram': 45, 'Dan' : 30}\n",
        "\n",
        "names = list(student.keys())\n",
        "marks = list(student.values())\n",
        "\n",
        "plt.bar(names, marks, color='green')\n",
        "# plt.barh(names, marks, color='red')\n",
        "plt.title(\"Bar Plot\")\n",
        "plt.xlabel(\"Names\")\n",
        "plt.ylabel('Marks')\n",
        "plt.grid(True)\n",
        "plt.show()"
      ],
      "metadata": {
        "colab": {
          "base_uri": "https://localhost:8080/",
          "height": 472
        },
        "id": "L3IUN0wctuEq",
        "outputId": "178cae65-3afe-410e-860d-0873d81e88a0"
      },
      "execution_count": null,
      "outputs": [
        {
          "output_type": "display_data",
          "data": {
            "text/plain": [
              "<Figure size 640x480 with 1 Axes>"
            ],
            "image/png": "[encoded data removed]"
          },
          "metadata": {}
        }
      ]
    },
    {
      "cell_type": "code",
      "source": [],
      "metadata": {
        "id": "4wkmpRZstuKc"
      },
      "execution_count": null,
      "outputs": []
    },
    {
      "cell_type": "code",
      "source": [],
      "metadata": {
        "id": "MMEoKsZftuNP"
      },
      "execution_count": null,
      "outputs": []
    }
  ]
}