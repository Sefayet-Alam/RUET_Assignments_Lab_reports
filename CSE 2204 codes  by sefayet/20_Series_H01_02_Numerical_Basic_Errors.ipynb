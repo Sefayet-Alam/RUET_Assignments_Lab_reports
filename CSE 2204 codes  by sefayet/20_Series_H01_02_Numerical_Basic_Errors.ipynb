{
  "cells": [
    {
      "cell_type": "markdown",
      "metadata": {
        "id": "8Aa257lGvrlI"
      },
      "source": [
        "Round-off Error:\n",
        "Round-off error occurs due to the finite precision of computer arithmetic. It can be estimated by comparing the result obtained through numerical computation with the exact mathematical result."
      ]
    },
    {
      "cell_type": "code",
      "execution_count": 1,
      "metadata": {
        "colab": {
          "base_uri": "https://localhost:8080/"
        },
        "id": "pWD4rgXivbU-",
        "outputId": "73f71bf8-85af-4be8-8296-8cb534dae740"
      },
      "outputs": [
        {
          "name": "stdout",
          "output_type": "stream",
          "text": [
            "Round-off Error: 7.346410206832132e-06\n"
          ]
        }
      ],
      "source": [
        "import math\n",
        "\n",
        "# Exact mathematical value\n",
        "exact_value = math.pi\n",
        "\n",
        "# Numerical approximation\n",
        "approximation = 3.1416\n",
        "\n",
        "# Calculate round-off error\n",
        "round_off_error = abs(exact_value - approximation)\n",
        "\n",
        "print(f\"Round-off Error: {round_off_error}\")\n"
      ]
    },
    {
      "cell_type": "code",
      "execution_count": 2,
      "metadata": {
        "colab": {
          "base_uri": "https://localhost:8080/"
        },
        "id": "DxatMtGfvowb",
        "outputId": "373e96a2-fe1f-4ef8-b8c9-936d998bfcfb"
      },
      "outputs": [
        {
          "name": "stdout",
          "output_type": "stream",
          "text": [
            "Absolute Error: 0.3000000000000007\n"
          ]
        }
      ],
      "source": [
        "# True value\n",
        "true_value = 10.5\n",
        "\n",
        "# Approximate value\n",
        "approx_value = 10.2\n",
        "\n",
        "# Calculate absolute error\n",
        "absolute_error = abs(true_value - approx_value)\n",
        "\n",
        "print(f\"Absolute Error: {absolute_error}\")"
      ]
    },
    {
      "cell_type": "code",
      "execution_count": null,
      "metadata": {
        "colab": {
          "base_uri": "https://localhost:8080/"
        },
        "id": "pc2jUSaQvoy0",
        "outputId": "19737c6b-0d96-4ec6-c8df-118ae7e706a9"
      },
      "outputs": [
        {
          "name": "stdout",
          "output_type": "stream",
          "text": [
            "Relative Error (%): 5.0%\n"
          ]
        }
      ],
      "source": [
        "# True value\n",
        "true_value = 50.0\n",
        "\n",
        "# Approximate value\n",
        "approx_value = 47.5\n",
        "\n",
        "# Calculate relative error as a percentage\n",
        "relative_error = (abs(true_value - approx_value) / true_value) * 100\n",
        "\n",
        "print('Relative Error: ',relative_error)\n"
      ]
    },
    {
      "cell_type": "code",
      "execution_count": 3,
      "metadata": {
        "colab": {
          "base_uri": "https://localhost:8080/"
        },
        "id": "sbLlN13Hvo1Y",
        "outputId": "7fa84d06-6b47-494b-9522-bbeb456a330f"
      },
      "outputs": [
        {
          "name": "stdout",
          "output_type": "stream",
          "text": [
            "General Error:  0.14999999999999963\n"
          ]
        }
      ],
      "source": [
        "# Define variables\n",
        "true_value = 15.0\n",
        "approx_value = 14.9\n",
        "round_off_error = 0.05  # Example round-off error\n",
        "\n",
        "# Calculate general error\n",
        "general_error = abs(true_value - approx_value) + round_off_error\n",
        "\n",
        "print('General Error: ', general_error)\n"
      ]
    },
    {
      "cell_type": "code",
      "execution_count": null,
      "metadata": {
        "id": "W--n99d7vo38"
      },
      "outputs": [],
      "source": []
    }
  ],
  "metadata": {
    "colab": {
      "provenance": []
    },
    "kernelspec": {
      "display_name": "Python 3",
      "name": "python3"
    },
    "language_info": {
      "codemirror_mode": {
        "name": "ipython",
        "version": 3
      },
      "file_extension": ".py",
      "mimetype": "text/x-python",
      "name": "python",
      "nbconvert_exporter": "python",
      "pygments_lexer": "ipython3",
      "version": "3.11.3"
    }
  },
  "nbformat": 4,
  "nbformat_minor": 0
}
