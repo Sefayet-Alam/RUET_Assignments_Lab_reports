{
 "cells": [
  {
   "cell_type": "code",
   "execution_count": null,
   "metadata": {},
   "outputs": [],
   "source": [
    "import pandas as pd \n",
    "\n",
    "def print_fd(forward_diff):\n",
    "    for index in forward_diff:\n",
    "        for element in index:\n",
    "            print(element,end=' ')\n",
    "        print('\\n')\n",
    "        \n",
    "def gauss_forward_difference(x,y,xi):\n",
    "    n=len(x)\n",
    "    h=x[1]-x[0]\n",
    "    forward_diff=[y] #initiate the table with y values\n",
    "    \n",
    "    for i in range(1,n):\n",
    "        next_diff=[]\n",
    "        for j in range(n-i):\n",
    "            next_diff.append(forward_diff[i-1][j+1]-forward_diff[i-1][j])\n",
    "        forward_diff.append(next_diff)\n",
    "        #print_fd(forward_diff)\n",
    "        "
   ]
  }
 ],
 "metadata": {
  "language_info": {
   "name": "python"
  }
 },
 "nbformat": 4,
 "nbformat_minor": 2
}
