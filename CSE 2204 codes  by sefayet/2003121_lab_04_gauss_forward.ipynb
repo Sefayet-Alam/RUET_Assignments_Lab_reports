{
  "nbformat": 4,
  "nbformat_minor": 0,
  "metadata": {
    "colab": {
      "provenance": []
    },
    "kernelspec": {
      "name": "python3",
      "display_name": "Python 3"
    },
    "language_info": {
      "name": "python"
    }
  },
  "cells": [
    {
      "cell_type": "code",
      "execution_count": 14,
      "metadata": {
        "colab": {
          "base_uri": "https://localhost:8080/"
        },
        "id": "mTRgGrABzSWR",
        "outputId": "dad57265-28eb-4709-a9a0-180956715e7e"
      },
      "outputs": [
        {
          "output_type": "stream",
          "name": "stdout",
          "text": [
            "Forward difference table : \n",
            "          D0      D1      D2      D3            D4            D5      D6\n",
            "1.00  2.7183  0.1394  0.0071  0.0004  8.881784e-16 -1.776357e-15  0.0001\n",
            "1.05  2.8577  0.1465  0.0075  0.0004 -8.881784e-16  1.000000e-04     NaN\n",
            "1.10  3.0042  0.1540  0.0079  0.0004  1.000000e-04           NaN     NaN\n",
            "1.15  3.1582  0.1619  0.0083  0.0005           NaN           NaN     NaN\n",
            "1.20  3.3201  0.1702  0.0088     NaN           NaN           NaN     NaN\n",
            "1.25  3.4903  0.1790     NaN     NaN           NaN           NaN     NaN\n",
            "1.30  3.6693     NaN     NaN     NaN           NaN           NaN     NaN\n",
            "Interpolated value at  1.17  is  3.2219902092799995\n"
          ]
        }
      ],
      "source": [
        "import pandas as pd\n",
        "\n",
        "def print_fd(forward_diff) :\n",
        "    for index in forward_diff:\n",
        "        for element in index:\n",
        "            print(element, end= ' ')\n",
        "        print('\\n')\n",
        "\n",
        "def gauss_forward_difference(x,y,xi) :\n",
        "    n = len(x)\n",
        "    h = x[1] - x[0]\n",
        "    forward_diff = [y] # initialixe the table with t values\n",
        "\n",
        "    for i in range (1,n) :\n",
        "        next_diff = []\n",
        "        for j in range (n-i):\n",
        "            next_diff.append(forward_diff[i-1][j+1] - forward_diff[i-1][j])\n",
        "        forward_diff.append(next_diff)\n",
        "\n",
        "    # print_fd(forward_diff)\n",
        "\n",
        "    # create a panadas dataframe to display the difference table\n",
        "    df = pd.DataFrame(forward_diff).transpose()\n",
        "    df.index = x\n",
        "    df.columns = [f'D{n}' for n in range (n)]\n",
        "\n",
        "    # Calculate the interpolation\n",
        "    result = y[0]\n",
        "    u = (xi - x[0]) / h\n",
        "    for i in range (1,n) :\n",
        "\n",
        "        term = forward_diff[i][0]\n",
        "        for j in range (i):\n",
        "            term *= (u - j)\n",
        "            term /= (j+1)\n",
        "        result += term\n",
        "    return result,df\n",
        "\n",
        "#example data points\n",
        "x = [1,1.05,1.10,1.15,1.20,1.25,1.30]\n",
        "y = [2.7183,2.8577,3.0042,3.1582,3.3201,3.4903,3.6693]\n",
        "# Value to interpolate\n",
        "xi = 1.17\n",
        "\n",
        "interpolated_value, difference_table = gauss_forward_difference(x,y,xi)\n",
        "print('Forward difference table : ')\n",
        "print(difference_table)\n",
        "print(\"Interpolated value at \", xi , ' is ', interpolated_value)"
      ]
    }
  ]
}