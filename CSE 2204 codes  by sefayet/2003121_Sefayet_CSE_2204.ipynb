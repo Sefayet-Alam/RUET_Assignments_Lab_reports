{
  "nbformat": 4,
  "nbformat_minor": 0,
  "metadata": {
    "colab": {
      "provenance": []
    },
    "kernelspec": {
      "name": "python3",
      "display_name": "Python 3"
    },
    "language_info": {
      "name": "python"
    }
  },
  "cells": [
    {
      "cell_type": "code",
      "execution_count": 155,
      "metadata": {
        "colab": {
          "base_uri": "https://localhost:8080/"
        },
        "id": "aVU6tKiS4OXs",
        "outputId": "cd65716d-842e-4bae-d3a0-8be1df995bb3"
      },
      "outputs": [
        {
          "output_type": "stream",
          "name": "stdout",
          "text": [
            "The root is:  2.094546950874257  And the number of iterations is: 9\n"
          ]
        }
      ],
      "source": [
        "#Program for  False-position or Regula Falsi method to find roots\n",
        "import math\n",
        "import random\n",
        "\n",
        "def func(x):\n",
        "  #this function returns the value of the algebraic or transcendental equation\n",
        "  return x**3-2*x-5\n",
        "\n",
        "def Method_RegulaFalsi(fnc,a,b,precision=1e-5,maxm_it=1000):\n",
        "  #main method\n",
        "  if func(a)*func(b)>0:\n",
        "    print(\"There is no solution in this interval\")\n",
        "    return (-1,-1)\n",
        "  curr_x=(a*func(b)-b*func(a))/(func(b)-func(a))\n",
        "  curr_it=0\n",
        "  prev_x=a\n",
        "  while (abs(curr_x-prev_x)>precision and curr_it<maxm_it):\n",
        "    #print(a,\"_\",b,\" \",abs(a-b)<=precision)\n",
        "    if func(curr_x)==0 :  return (curr_x,curr_it)\n",
        "    elif func(curr_x)*func(a)<0: b=curr_x\n",
        "    else : a=curr_x\n",
        "    prev_x=curr_x\n",
        "    curr_x=(a*func(b)-b*func(a))/(func(b)-func(a))  #RegulaFalsi Formula to get a root in the range [a,b]\n",
        "    curr_it+=1\n",
        "\n",
        "  return (curr_x,curr_it)\n",
        "\n",
        "init_interval=(2,3)\n",
        "root,tot_it=Method_RegulaFalsi(func,*init_interval)\n",
        "if tot_it!=-1 :\n",
        "  print(\"The root is: \",root,\" And the number of iterations is:\",tot_it)"
      ]
    },
    {
      "cell_type": "code",
      "source": [
        "#Program for  False-position iteration method to find roots\n",
        "\n",
        "def func2(x) :\n",
        "  #returns the value for the equation\n",
        "  return 1/math.sqrt(1+x)\n",
        "\n",
        "\n",
        "def iteration_method(fnc,a,b,precision=1e-5,maxm_it=1000) :\n",
        "  x0=a #initial guess\n",
        "  curr_x=x0\n",
        "  curr_it=0\n",
        "  while(curr_x!=func2(curr_x)  and (curr_it<maxm_it) and abs(curr_x-func2(curr_x))>precision):\n",
        "   curr_x=func2(curr_x)\n",
        "   curr_it+=1\n",
        "\n",
        "  return (curr_x,curr_it)\n",
        "\n",
        "init_interval=(0,1)\n",
        "root,tot_it=iteration_method(func2,*init_interval)\n",
        "print(\"The root is: \",root,\" And the number of iterations is:\",tot_it)\n"
      ],
      "metadata": {
        "colab": {
          "base_uri": "https://localhost:8080/"
        },
        "id": "vITqcsoyKPce",
        "outputId": "80ff74a4-780d-4763-ebfb-fab1362e5e29"
      },
      "execution_count": 156,
      "outputs": [
        {
          "output_type": "stream",
          "name": "stdout",
          "text": [
            "The root is:  0.7548728562815917  And the number of iterations is: 8\n"
          ]
        }
      ]
    },
    {
      "cell_type": "code",
      "source": [
        "from re import I\n",
        "def func3():\n",
        "  return [1,-9,26,-24],lambda x: x**3-9*x**2+26*x-24 #list of coefficients and the value\n",
        "\n",
        "def Method_of_ramanujan(fnc,precision=1e-5):\n",
        "  lst_a,val=func3();\n",
        "  sz=len(lst_a)\n",
        "  div=-lst_a[sz-1]\n",
        "  if lst_a[sz-1]==0: return (0,0)\n",
        "  lst_a=[lst_a[x]/div for x in range(sz)]\n",
        "  lst_a.reverse();\n",
        "  for i in range(900):\n",
        "    lst_a.append(0) #As a4,a5,a6... all are all zero\n",
        "  #for i in range(sz):\n",
        "  #  print(lst_a[i])\n",
        "\n",
        "  lst_b=[]\n",
        "  for i in range(len(lst_a)):\n",
        "    curr=0\n",
        "    if i==0 : lst_b.append(1)\n",
        "    else :\n",
        "      for j in range(i) :\n",
        "        curr+=(lst_b[j])*(lst_a[i-j])\n",
        "      lst_b.append(curr)\n",
        "\n",
        "  #for i in range(len(lst_b)):\n",
        "   # print(lst_b[i])\n",
        "  curr_rat=0.0\n",
        "  curr_it=0\n",
        "  prevrat=0.0\n",
        "  for i in range(1,len(lst_b)) :\n",
        "    #print(lst_b[i])\n",
        "    if lst_b[i] :\n",
        "      curr_it+=1\n",
        "      prev_rat=curr_rat\n",
        "      curr_rat=lst_b[i-1]/lst_b[i]\n",
        "      if(abs(prev_rat-curr_rat)<=precision) : break\n",
        "  return curr_rat,curr_it\n",
        "\n",
        "root,tot_it=Method_of_ramanujan(func3)\n",
        "print(\"The root is: \",round(root),\" precisely: \",root,\" And the number of iterations is:\",tot_it)"
      ],
      "metadata": {
        "colab": {
          "base_uri": "https://localhost:8080/"
        },
        "id": "G_kc0fZzNlLN",
        "outputId": "8b58c6c3-fb02-4088-f15c-97f6e5e17214"
      },
      "execution_count": 154,
      "outputs": [
        {
          "output_type": "stream",
          "name": "stdout",
          "text": [
            "The root is:  2  precisely:  1.999984358195448  And the number of iterations is: 28\n"
          ]
        }
      ]
    }
  ]
}