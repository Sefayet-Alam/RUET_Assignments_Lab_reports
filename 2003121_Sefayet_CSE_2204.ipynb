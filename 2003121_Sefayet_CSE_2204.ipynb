{
  "nbformat": 4,
  "nbformat_minor": 0,
  "metadata": {
    "colab": {
      "provenance": [],
      "authorship_tag": "ABX9TyNea2pZkm0EKOwJJjhSu25V",
      "include_colab_link": true
    },
    "kernelspec": {
      "name": "python3",
      "display_name": "Python 3"
    },
    "language_info": {
      "name": "python"
    }
  },
  "cells": [
    {
      "cell_type": "markdown",
      "metadata": {
        "id": "view-in-github",
        "colab_type": "text"
      },
      "source": [
        "<a href=\"https://colab.research.google.com/github/Sefayet-Alam/RUET_Assignments/blob/main/2003121_Sefayet_CSE_2204.ipynb\" target=\"_parent\"><img src=\"https://colab.research.google.com/assets/colab-badge.svg\" alt=\"Open In Colab\"/></a>"
      ]
    },
    {
      "cell_type": "code",
      "execution_count": 115,
      "metadata": {
        "colab": {
          "base_uri": "https://localhost:8080/"
        },
        "id": "aVU6tKiS4OXs",
        "outputId": "ed8b91bf-9094-4025-828e-604bdacfff7b"
      },
      "outputs": [
        {
          "output_type": "stream",
          "name": "stdout",
          "text": [
            "The root is:  2.0945514815423265  And the number of iterations is: 1000\n"
          ]
        }
      ],
      "source": [
        "#Program for  False-position or Regula Falsi method to find roots\n",
        "import math\n",
        "import random\n",
        "\n",
        "def func(x):\n",
        "  #this function returns the value of the algebraic or transcendental equation\n",
        "  return x**3-2*x-5\n",
        "\n",
        "def Method_RegulaFalsi(fnc,a,b,precision=1e-5,maxm_it=1000):\n",
        "  #main method\n",
        "  if func(a)*func(b)>0:\n",
        "    print(\"There is no solution in this interval\")\n",
        "    return (-1,-1)\n",
        "  curr_x=a\n",
        "  curr_it=0\n",
        "  for i in range(maxm_it) :\n",
        "    if abs(a-b)<=precision : return (curr_x,curr_it)\n",
        "    curr_x=(a*func(b)-b*func(a))/(func(b)-func(a))  #RegulaFalsi Formula to get a root in the range [a,b]\n",
        "    if func(curr_x)==0 :  return (curr_x,curr_it)\n",
        "    elif func(curr_x)*func(a)<0: b=curr_x\n",
        "    else : a=curr_x\n",
        "    curr_it+=1\n",
        "\n",
        "  return (curr_x,curr_it)\n",
        "\n",
        "init_interval=(2,3)\n",
        "root,tot_it=Method_RegulaFalsi(func,*init_interval)\n",
        "if tot_it!=-1 :\n",
        "  print(\"The root is: \",root,\" And the number of iterations is:\",tot_it)"
      ]
    },
    {
      "cell_type": "code",
      "source": [
        "#Program for  False-position iteration method to find roots\n",
        "\n",
        "def func2(x) :\n",
        "  #returns the value for the equation\n",
        "  return 1/math.sqrt(1+x)\n",
        "\n",
        "\n",
        "def iteration_method(fnc,a,b,precision=1e-5,maxm_it=1000) :\n",
        "  x0=a #initial guess\n",
        "  curr_x=x0\n",
        "  curr_it=0\n",
        "  while(curr_x!=func2(curr_x)  and (curr_it<maxm_it) and abs(curr_x-func2(curr_x))>0):\n",
        "   curr_x=func2(curr_x)\n",
        "   curr_it+=1\n",
        "\n",
        "  return (curr_x,curr_it)\n",
        "\n",
        "init_interval=(0,1)\n",
        "root,tot_it=iteration_method(func2,*init_interval)\n",
        "print(\"The root is: \",root,\" And the number of iterations is:\",tot_it)\n"
      ],
      "metadata": {
        "colab": {
          "base_uri": "https://localhost:8080/"
        },
        "id": "vITqcsoyKPce",
        "outputId": "d46ab87a-8cac-48ab-f69b-df2d7f33b3a2"
      },
      "execution_count": 116,
      "outputs": [
        {
          "output_type": "stream",
          "name": "stdout",
          "text": [
            "The root is:  0.7548776662466927  And the number of iterations is: 26\n"
          ]
        }
      ]
    },
    {
      "cell_type": "code",
      "source": [
        "def func3():\n",
        "  return [1,-9,26,-24],lambda x: x**3-9*x**2+26*x-24 #list of coefficients and the value\n",
        "\n",
        "def Method_of_ramanujan(fnc):\n",
        "  lst_a,val=func3();\n",
        "  sz=len(lst_a)\n",
        "  div=-lst_a[sz-1]\n",
        "  if lst_a[sz-1]==0: return 0\n",
        "  lst_a=[lst_a[x]/div for x in range(sz)]\n",
        "  lst_a.reverse();\n",
        "  for i in range(900):\n",
        "    lst_a.append(0) #As a4,a5,a6... all are zero\n",
        "  #for i in range(sz):\n",
        "  #  print(lst_a[i])\n",
        "\n",
        "  lst_b=[]\n",
        "  for i in range(len(lst_a)):\n",
        "    curr=0\n",
        "    if i==0 : lst_b.append(1)\n",
        "    else :\n",
        "      for j in range(i) :\n",
        "        curr+=(lst_b[j])*(lst_a[i-j])\n",
        "      lst_b.append(curr)\n",
        "\n",
        "  #for i in range(len(lst_b)):\n",
        "   # print(lst_b[i])\n",
        "  curr_rat=0.0\n",
        "  for i in range(1,len(lst_b)) :\n",
        "    if lst_b[i]>0 :\n",
        "      curr_rat=lst_b[i-1]/lst_b[i]\n",
        "  return curr_rat\n",
        "\n",
        "root=Method_of_ramanujan(func3)\n",
        "print(\"The root is: \",root)"
      ],
      "metadata": {
        "colab": {
          "base_uri": "https://localhost:8080/"
        },
        "id": "G_kc0fZzNlLN",
        "outputId": "5660f5f3-87ec-402f-db16-4e35dc9daa30"
      },
      "execution_count": 117,
      "outputs": [
        {
          "output_type": "stream",
          "name": "stdout",
          "text": [
            "The root is:  2.0000000000000018\n"
          ]
        }
      ]
    }
  ]
}