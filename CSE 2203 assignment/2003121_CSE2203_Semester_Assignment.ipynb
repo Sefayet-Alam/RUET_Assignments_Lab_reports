{
  "cells": [
    {
      "cell_type": "markdown",
      "metadata": {},
      "source": [
        "#### Assignment: CSE 2203\n",
        "--------------------------------\n",
        "##### Submitted by:\n",
        "Name: Khandoker Sefayet Alam <br>\n",
        "Roll: 2003121 <br>\n",
        "Section: C <br>\n",
        "Date: 17-Jan-2024 <br>\n",
        "##### Submitted to:\n",
        "Md. Farukuzzaman Faruk <br>\n",
        "Assistant Professor, <br> \n",
        "Dept. Of CSE, RUET <br>"
      ]
    },
    {
      "cell_type": "code",
      "execution_count": 433,
      "metadata": {
        "id": "MUcZs1dQQjf0"
      },
      "outputs": [],
      "source": [
        "#import all necessary libraries\n",
        "import numpy as np\n",
        "import matplotlib.pyplot as plt\n",
        "import csv\n",
        "import random\n",
        "import math\n"
      ]
    },
    {
      "cell_type": "code",
      "execution_count": 434,
      "metadata": {},
      "outputs": [],
      "source": [
        "#Read from csv file\n",
        "def read_csv_file(file_path):\n",
        "    years = []\n",
        "    populations = []\n",
        "    \n",
        "    with open(file_path, 'r') as csvfile:\n",
        "        csvreader = csv.reader(csvfile)\n",
        "        header = next(csvreader)  # Get the header row\n",
        "        \n",
        "        for row in csvreader:\n",
        "            if row[0]=='Year Population': \n",
        "                continue\n",
        "            yr=\"\"\n",
        "            pop=\"\"\n",
        "            for i in range(0,4):\n",
        "                yr=yr+row[0][i]\n",
        "            years.append(int(yr))\n",
        "            for i in range(5,len(row[0])):\n",
        "                pop=pop+row[0][i]\n",
        "            populations.append(int(pop))\n",
        "    return years, populations\n",
        "\n",
        "#file_path = 'population_data.csv'\n",
        "#years, populations = read_csv_file(file_path)\n",
        "#print(years)\n",
        "#print(populations)\n"
      ]
    },
    {
      "cell_type": "code",
      "execution_count": 435,
      "metadata": {},
      "outputs": [],
      "source": [
        "#Using Newton's Interpolation method, find population for a certain year\n",
        "\n",
        "def print_fd(forward_diff):\n",
        "    for index in forward_diff:\n",
        "        for element in index:\n",
        "            print(element,end=' ')\n",
        "        print('\\n')\n",
        "        \n",
        "def NewtonInterpolation(years, population, target_year):     \n",
        "    x=years\n",
        "    y=population\n",
        "    n=len(years)\n",
        "    h=years[1]-years[0]\n",
        "    p=(target_year-years[0])/h\n",
        "    forward_diff=[]\n",
        "    forward_diff.append(population)\n",
        "    \n",
        "    for i in range(n-1):\n",
        "        forward_diff.append([])\n",
        "        for j in range(n-i-1):\n",
        "            forward_diff[i+1].append(float(forward_diff[i][j+1] - forward_diff[i][j]))\n",
        "    #print_fd(forward_diff)\n",
        "    coeff = p\n",
        "    fact = 1\n",
        "    prediction=population[0]\n",
        "    for i in range(1, len(forward_diff)):\n",
        "        fact *= i\n",
        "        prediction +=float((p*forward_diff[i][0])/fact) \n",
        "        p *= (coeff-i)\n",
        "       \n",
        "    return prediction\n",
        "\n",
        "#years=[2015,2016,2017,2018]\n",
        "#populations=[100,200,400,800]\n",
        "#NewtonInterpolation(years,populations,2025)"
      ]
    },
    {
      "cell_type": "markdown",
      "metadata": {},
      "source": [
        "***Now let's assume a function for population such that f(t)-target_population=0***"
      ]
    },
    {
      "cell_type": "code",
      "execution_count": 436,
      "metadata": {},
      "outputs": [],
      "source": [
        "\n",
        "def create_func(years,populations):\n",
        "    coefficients = np.polyfit(years, populations, 2)\n",
        "    function=np.poly1d(coefficients)\n",
        "    #print(function)\n",
        "    #print(derivative)\n",
        "    return function\n",
        "\n"
      ]
    },
    {
      "cell_type": "markdown",
      "metadata": {},
      "source": [
        "***Using Newton-Raphson Method we need to find by which year we'll reach the target population***"
      ]
    },
    {
      "cell_type": "code",
      "execution_count": 437,
      "metadata": {},
      "outputs": [],
      "source": [
        "def newton_raphson(years,populations,target_population ,tolerance = 1e-6, initial_guess=2000,max_iterations=10000):\n",
        "    func=create_func(years,populations)\n",
        "    t_guess = initial_guess\n",
        "    deriv_func=func.deriv()\n",
        "    iteration = 0\n",
        "\n",
        "    # Perform iterations\n",
        "    while iteration < max_iterations:\n",
        "        f_t = func(t_guess) - target_population\n",
        "        f_prime_t = deriv_func(t_guess)\n",
        "        t_guess = t_guess - f_t / f_prime_t\n",
        "        if abs(f_t) < tolerance:\n",
        "            return t_guess\n",
        "        iteration += 1\n",
        "    # If the method did not converge, raise an exception or return None\n",
        "    raise ValueError(\"Newton's Raphson method did not converge within the specified iterations.\")"
      ]
    },
    {
      "cell_type": "markdown",
      "metadata": {},
      "source": [
        "***Using Curve Fitting method to fit a curve to the population data***\n"
      ]
    },
    {
      "cell_type": "code",
      "execution_count": 438,
      "metadata": {},
      "outputs": [],
      "source": [
        "def curve_fitting(years, populations, target_year):      # straight line method\n",
        "    n = len(years)\n",
        "    \n",
        "    sum_pop_sq=0\n",
        "    sum_yr_sq=0\n",
        "    sum_years=0\n",
        "    sum_pop=0\n",
        "    \n",
        "    for yr in years:\n",
        "        sum_years+=yr\n",
        "        sum_yr_sq+=yr*yr\n",
        "        \n",
        "    for pop in populations:\n",
        "        sum_pop+=pop\n",
        "        sum_pop_sq+=pop*pop\n",
        "    \n",
        "    sum_xy=0\n",
        "    \n",
        "    for i in range(0,n):\n",
        "        sum_xy+=years[i]*populations[i]\n",
        "        \n",
        "    a = (n*sum_xy - sum_pop*sum_years) / (n*sum_yr_sq - sum_years**2)\n",
        "    a1 = (sum_pop - a*sum_years) / n\n",
        "\n",
        "    ret = a*target_year + a1\n",
        "    return ret"
      ]
    },
    {
      "cell_type": "markdown",
      "metadata": {},
      "source": [
        "***Driver function***\n"
      ]
    },
    {
      "cell_type": "code",
      "execution_count": 439,
      "metadata": {},
      "outputs": [
        {
          "name": "stdout",
          "output_type": "stream",
          "text": [
            "\n",
            "Years= \n",
            "[2000, 2001, 2002, 2003, 2004, 2005, 2006, 2007, 2008, 2009, 2010, 2011, 2012, 2013, 2014, 2015, 2016, 2017, 2018, 2019, 2020, 2021, 2022, 2023, 2024]\n",
            "\n",
            "Populations= \n",
            "[129193327, 131670484, 134139826, 136503206, 138789725, 140912590, 142628831, 144135934, 145421318, 146706810, 148391139, 150211005, 152090649, 154030139, 155961299, 157830000, 159784568, 161793964, 163683958, 165516222, 167420951, 169356251, 171186372, 172954319, 174701211]\n"
          ]
        }
      ],
      "source": [
        "file_path = 'population_data.csv'\n",
        "years, populations = read_csv_file(file_path)\n",
        "print(\"\\nYears= \")\n",
        "print(years)\n",
        "print(\"\\nPopulations= \")\n",
        "print(populations)\n",
        "sz=len(years)\n",
        "last=years[sz-1]\n",
        "ten_years=[]\n",
        "\n",
        "for i in range(1,11):\n",
        "    ten_years.append(last+i)\n",
        "#print(ten_years)\n",
        "\n",
        "target_poplation_using_interpolation=[]\n",
        "\n",
        "target_poplation_for_curve_fit=[]\n",
        "\n",
        "for yr in ten_years:\n",
        "    target_poplation_using_interpolation.append(NewtonInterpolation(years,populations,yr))\n",
        "\n",
        "#print(target_poplation_using_interpolation)\n",
        "\n",
        "for yr in ten_years:\n",
        "    target_poplation_for_curve_fit.append(curve_fitting(years,populations,yr))\n",
        "\n",
        "#print(target_poplation_for_curve_fit)"
      ]
    },
    {
      "cell_type": "markdown",
      "metadata": {},
      "source": [
        "***Now let's print all the values we got to compare***"
      ]
    },
    {
      "cell_type": "code",
      "execution_count": 440,
      "metadata": {},
      "outputs": [
        {
          "name": "stdout",
          "output_type": "stream",
          "text": [
            "The values we got using newton interpolation: \n",
            "\n",
            "For the year  2025 The population will be :  135780150972.08765\n",
            "For the year  2026 The population will be :  3297179002029.9453\n",
            "For the year  2027 The population will be :  41800507941091.0\n",
            "For the year  2028 The population will be :  367775442138122.75\n",
            "For the year  2029 The population will be :  2521988270836902.0\n",
            "For the year  2030 The population will be :  1.4355475578135344e+16\n",
            "For the year  2031 The population will be :  7.055359970460528e+16\n",
            "For the year  2032 The population will be :  3.075502652115291e+17\n",
            "For the year  2033 The population will be :  1.2123850197281577e+18\n",
            "For the year  2034 The population will be :  4.385788666928464e+18\n",
            "\n",
            "\n",
            "The values we got using newton interpolation: \n",
            "\n",
            "For the year  2025 The population will be :  176520942.17999983\n",
            "For the year  2026 The population will be :  178360971.27692318\n",
            "For the year  2027 The population will be :  180201000.37384605\n",
            "For the year  2028 The population will be :  182041029.4707694\n",
            "For the year  2029 The population will be :  183881058.56769228\n",
            "For the year  2030 The population will be :  185721087.66461515\n",
            "For the year  2031 The population will be :  187561116.7615385\n",
            "For the year  2032 The population will be :  189401145.85846138\n",
            "For the year  2033 The population will be :  191241174.95538473\n",
            "For the year  2034 The population will be :  193081204.0523076\n"
          ]
        }
      ],
      "source": [
        "print(\"The values we got using newton interpolation: \\n\")\n",
        "for yr,p in  zip(ten_years,target_poplation_using_interpolation):\n",
        "    print(\"For the year \",yr,\"The population will be : \",p)\n",
        "    \n",
        "print(\"\\n\\nThe values we got using newton interpolation: \\n\")\n",
        "for yr,p in  zip(ten_years,target_poplation_for_curve_fit):\n",
        "    print(\"For the year \",yr,\"The population will be : \",p)"
      ]
    },
    {
      "cell_type": "markdown",
      "metadata": {},
      "source": [
        "***Now let's check  our Newton Raphson methon to check if the predicted values match with our years***\n"
      ]
    },
    {
      "cell_type": "code",
      "execution_count": 441,
      "metadata": {},
      "outputs": [
        {
          "name": "stdout",
          "output_type": "stream",
          "text": [
            "Using curve fitting method's values: \n",
            "\n",
            "Population will be:  176520942.17999983  in year :  2025.0229223588537\n",
            "Population will be:  178360971.27692318  in year :  2026.028223222137\n",
            "Population will be:  180201000.37384605  in year :  2027.0339203997898\n",
            "Population will be:  182041029.4707694  in year :  2028.040014360895\n",
            "Population will be:  183881058.56769228  in year :  2029.046505575457\n",
            "Population will be:  185721087.66461515  in year :  2030.0533945144127\n",
            "Population will be:  187561116.7615385  in year :  2031.0606816496281\n",
            "Population will be:  189401145.85846138  in year :  2032.068367453903\n",
            "Population will be:  191241174.95538473  in year :  2033.0764524009746\n",
            "Population will be:  193081204.0523076  in year :  2034.0849369655186\n"
          ]
        }
      ],
      "source": [
        "years_using_newton_raph=[]\n",
        "\n",
        "for p in target_poplation_for_curve_fit:\n",
        "    years_using_newton_raph.append(newton_raphson(years,populations,p))\n",
        "\n",
        "print(\"Using curve fitting method's values: \\n\")\n",
        "for p,ye in zip(target_poplation_for_curve_fit,years_using_newton_raph):\n",
        "    print(\"Population will be: \",p,\" in year : \",ye)\n"
      ]
    },
    {
      "cell_type": "markdown",
      "metadata": {},
      "source": [
        "***So, we can conclude that the curve fitting method's predictions are quite accurate as they give accurate years***\n",
        "\n",
        "***Now we shall see how was the population curve was for 2000-2024....***\n",
        "***The red line in the below graph shows us the prediction for the next ten years***"
      ]
    },
    {
      "cell_type": "code",
      "execution_count": 442,
      "metadata": {},
      "outputs": [
        {
          "data": {
            "image/png": "[encoded data removed]",
            "text/plain": [
              "<Figure size 640x480 with 1 Axes>"
            ]
          },
          "metadata": {},
          "output_type": "display_data"
        }
      ],
      "source": [
        "plt.title(\"Data Set vs Fitted Curve\")\n",
        "plt.xlabel(\"Year\")\n",
        "plt.ylabel(\"Population (in Million)\")\n",
        "\n",
        "plt.plot(years, populations, \"-o\", label=\"data-points\", color=\"royalblue\")\n",
        "plt.plot(ten_years, target_poplation_for_curve_fit, \"-o\", label=\"Curve Fitting method\", color=\"red\")\n",
        "\n",
        "\n",
        "\n",
        "plt.legend()\n",
        "plt.show()"
      ]
    },
    {
      "cell_type": "markdown",
      "metadata": {},
      "source": [
        "***Now we shall see how the graph will be for next ten years i.e 2025-2035...***\n",
        "***We'll see both results for newton interpolation method and curve fitting method...***\n",
        "***Also we'll keep the main graph for 2000-2024 that'll help us figure out which one is better***"
      ]
    },
    {
      "cell_type": "code",
      "execution_count": 443,
      "metadata": {},
      "outputs": [
        {
          "data": {
            "image/png": "[encoded data removed]",
            "text/plain": [
              "<Figure size 640x480 with 1 Axes>"
            ]
          },
          "metadata": {},
          "output_type": "display_data"
        }
      ],
      "source": [
        "plt.title(\"Data Set vs Fitted Curve\")\n",
        "plt.xlabel(\"Year\")\n",
        "plt.ylabel(\"Population (in Million)\")\n",
        "\n",
        "plt.plot(years, populations, \"-o\", label=\"data-points\", color=\"royalblue\")\n",
        "plt.plot(ten_years, target_poplation_for_curve_fit, \"-o\", label=\"Curve Fitting method\", color=\"red\")\n",
        "plt.plot(ten_years, target_poplation_using_interpolation, \"-o\", label=\"Newton's Interpolation method\", color=\"orange\")\n",
        "\n",
        "plt.legend()\n",
        "plt.show()"
      ]
    },
    {
      "cell_type": "markdown",
      "metadata": {},
      "source": [
        "***Therefore, we can conclude that Curve fitting method gives a better result for prediction than Newton's interpolation formula***"
      ]
    }
  ],
  "metadata": {
    "colab": {
      "provenance": []
    },
    "kernelspec": {
      "display_name": "Python 3",
      "name": "python3"
    },
    "language_info": {
      "codemirror_mode": {
        "name": "ipython",
        "version": 3
      },
      "file_extension": ".py",
      "mimetype": "text/x-python",
      "name": "python",
      "nbconvert_exporter": "python",
      "pygments_lexer": "ipython3",
      "version": "3.11.3"
    }
  },
  "nbformat": 4,
  "nbformat_minor": 0
}
